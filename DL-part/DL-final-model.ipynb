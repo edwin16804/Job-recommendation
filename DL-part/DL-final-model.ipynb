{
 "cells": [
  {
   "cell_type": "code",
   "execution_count": 17,
   "metadata": {},
   "outputs": [
    {
     "name": "stderr",
     "output_type": "stream",
     "text": [
      "[nltk_data] Downloading package stopwords to\n",
      "[nltk_data]     C:\\Users\\EDWIN\\AppData\\Roaming\\nltk_data...\n",
      "[nltk_data]   Package stopwords is already up-to-date!\n",
      "[nltk_data] Downloading package punkt_tab to\n",
      "[nltk_data]     C:\\Users\\EDWIN\\AppData\\Roaming\\nltk_data...\n",
      "[nltk_data]   Package punkt_tab is already up-to-date!\n",
      "[nltk_data] Downloading package punkt to\n",
      "[nltk_data]     C:\\Users\\EDWIN\\AppData\\Roaming\\nltk_data...\n",
      "[nltk_data]   Package punkt is already up-to-date!\n",
      "[nltk_data] Downloading package averaged_perceptron_tagger to\n",
      "[nltk_data]     C:\\Users\\EDWIN\\AppData\\Roaming\\nltk_data...\n",
      "[nltk_data]   Package averaged_perceptron_tagger is already up-to-\n",
      "[nltk_data]       date!\n",
      "[nltk_data] Downloading package maxent_ne_chunker to\n",
      "[nltk_data]     C:\\Users\\EDWIN\\AppData\\Roaming\\nltk_data...\n",
      "[nltk_data]   Package maxent_ne_chunker is already up-to-date!\n",
      "[nltk_data] Downloading package words to\n",
      "[nltk_data]     C:\\Users\\EDWIN\\AppData\\Roaming\\nltk_data...\n",
      "[nltk_data]   Package words is already up-to-date!\n"
     ]
    },
    {
     "data": {
      "text/plain": [
       "True"
      ]
     },
     "execution_count": 17,
     "metadata": {},
     "output_type": "execute_result"
    }
   ],
   "source": [
    "import spacy\n",
    "from pdfminer.high_level import extract_text\n",
    "import nltk\n",
    "nltk.download('stopwords')\n",
    "nltk.download('punkt_tab')  \n",
    "nltk.download('punkt')\n",
    "nltk.download('averaged_perceptron_tagger')\n",
    "nltk.download('maxent_ne_chunker')\n",
    "nltk.download('words')\n"
   ]
  },
  {
   "cell_type": "code",
   "execution_count": 18,
   "metadata": {},
   "outputs": [
    {
     "data": {
      "text/plain": [
       "'EDWIN CHAZHOOR\\n\\n+91-7069940011  • edwinchazhoor0408@gmail.com • Github: https://github.com/edwin16804 \\n• LinkedIn: https://www.linkedin.com/in/edwin-chazhoor/\\n\\nEDUCATION\\n\\nBTech. Computer Science Engineering with specialization in AIML\\nVellore Institute of Technology-Chennai\\n\\nJul 2022- Present\\n\\nCGPA: 8.97\\n\\nCBSE - XII\\nAnand Vidya Vihar- Vadodara\\n\\nResult: 92%\\n\\nCBSE - X\\nAnand Vidya Vihar- Vadodara\\n\\nResult: 86%\\n\\nPROJECTS\\n\\nMay 2022\\n\\nMarch 2020\\n\\nPersonal Finance Tracker Web App\\n\\nFeb 2024-April 2024\\n\\nDeveloped a Personal Finance Manager to help users organize and optimize their income, expenses,\\nsavings, and investments.\\nDatabase Management: Configured and optimized MySQL database to store and retrieve user data.\\nUtilized Flask to build a web application framework.\\nUser Interface Design: Created responsive and user-friendly web interfaces using HTML, CSS, and\\nJS.\\nGithub : https://github.com/edwin16804/Finance-Tracker\\n\\nSmart Energy Management System using Ensemble Learning\\n\\nFeb 2024-May 2024\\n\\nDeveloped  an  SEMS  that  minimizes  energy  wastage  by  combining  the  best-performing  ensemble\\nlearning classifier based on accuracy.\\nThis  project  introduces  a  Smart  Energy  Management  System  (SEMS)  that  utilizes  ensemble  learning\\nwith  AdaBoost  and  Random  Forest  classifiers  to  predict  energy  waste  in  smart  homes  with  high\\naccuracy. \\nGithub:https://github.com/edwin16804/Smart-Energy-Management-System-Using-Ensemble-Learning\\n\\nHotel Management System\\n\\nJan 2022-March 2022\\n\\nDeveloped a  Hotel Management System providing users with access to all essential features\\nrequired for efficient hotel management, such as room booking, check-out, and reservation.\\nDesigned and developed the entire application using Python, used Tkinter for building the graphical\\nuser interface (GUI) of the application. used MySQL for managing and storing hotel data efficiently.\\nGithub : https://github.com/edwin16804/nocturnal-hotel-management-system\\n\\nAI powered job recommendation system\\n\\nSystem will connect job seekers with relevant job opportunities by leveraging machine\\nlearning and natural language processing (NLP)\\n\\nIntrusion Detection System in IOT devices using AI\\nAutomated threat detection and prevention\\n\\nSKILLS\\n\\nTechnical Skills: C/C++, Python, Java, ReactJS, JS, HTML,CSS, SQL\\nLanguages: English, Malayalam, Hindi, Spanish\\nAwards/Activities: Won the TechnoVIT Ideathon for ‘TrashCanGo’ app idea\\n\\nOngoing\\n\\nOngoing\\n\\n\\x0c'"
      ]
     },
     "execution_count": 18,
     "metadata": {},
     "output_type": "execute_result"
    }
   ],
   "source": [
    "\n",
    "nlp=spacy.load(\"en_core_web_sm\")\n",
    "file_path='C:/Users/EDWIN/OneDrive/Desktop/AI-job/AI-Job-Recommendation/DL-part/Edwin-Resume.pdf'\n",
    "text=extract_text(file_path)\n",
    "text"
   ]
  },
  {
   "cell_type": "code",
   "execution_count": 19,
   "metadata": {},
   "outputs": [
    {
     "name": "stdout",
     "output_type": "stream",
     "text": [
      "EDWIN CHAZHOOR 917069940011  edwinchazhoor0408@gmailcom  Github   LinkedIn  EDUCATION BTech Computer Science Engineering with specialization in AIML Vellore Institute of TechnologyChennai Jul 2022 Present CGPA 897 CBSE  XII Anand Vidya Vihar Vadodara Result 92 CBSE  X Anand Vidya Vihar Vadodara Result 86 PROJECTS May 2022 March 2020 Personal Finance Tracker Web App Feb 2024April 2024 Developed a Personal Finance Manager to help users organize and optimize their income expenses savings and investments Database Management Configured and optimized MySQL database to store and retrieve user data Utilized Flask to build a web application framework User Interface Design Created responsive and userfriendly web interfaces using HTML CSS and JS Github   Smart Energy Management System using Ensemble Learning Feb 2024May 2024 Developed an SEMS that minimizes energy wastage by combining the bestperforming ensemble learning classifier based on accuracy This project introduces a Smart Energy Management System SEMS that utilizes ensemble learning with AdaBoost and Random Forest classifiers to predict energy waste in smart homes with high accuracy Github Hotel Management System Jan 2022March 2022 Developed a Hotel Management System providing users with access to all essential features required for efficient hotel management such as room booking checkout and reservation Designed and developed the entire application using Python used Tkinter for building the graphical user interface GUI of the application used MySQL for managing and storing hotel data efficiently Github   AI powered job recommendation system System will connect job seekers with relevant job opportunities by leveraging machine learning and natural language processing NLP Intrusion Detection System in IOT devices using AI Automated threat detection and prevention SKILLS Technical Skills CC Python Java ReactJS JS HTMLCSS SQL Languages English Malayalam Hindi Spanish AwardsActivities Won the TechnoVIT Ideathon for ‘TrashCanGo’ app idea Ongoing Ongoing\n"
     ]
    }
   ],
   "source": [
    "import re\n",
    "import string\n",
    "\n",
    "# Step 1: Remove newline characters (\\n)\n",
    "resume_text_cleaned = text.replace(\"\\n\", \" \")\n",
    "\n",
    "# Step 2: Remove URLs (links)\n",
    "\n",
    "# Step 3: Remove extra spaces\n",
    "resume_text_cleaned = re.sub(r'\\s+', ' ', resume_text_cleaned).strip()\n",
    "\n",
    "resume_text_cleaned = re.sub(r'http\\S+', '', resume_text_cleaned)\n",
    "\n",
    "punctuation_to_remove = string.punctuation.replace('@', '')\n",
    "resume_text_cleaned = re.sub(r'[•' + re.escape(punctuation_to_remove) + ']', '', resume_text_cleaned)\n",
    "\n",
    "# Print the cleaned resume text\n",
    "print(resume_text_cleaned)\n"
   ]
  },
  {
   "cell_type": "code",
   "execution_count": 25,
   "metadata": {},
   "outputs": [
    {
     "data": {
      "text/plain": [
       "EDWIN CHAZHOOR 917069940011  edwinchazhoor0408@gmailcom  Github httpsgithubcomedwin16804  LinkedIn httpswwwlinkedincominedwinchazhoor EDUCATION BTech Computer Science Engineering with specialization in AIML Vellore Institute of TechnologyChennai Jul 2022 Present CGPA 897 CBSE  XII Anand Vidya Vihar Vadodara Result 92 CBSE  X Anand Vidya Vihar Vadodara Result 86 PROJECTS May 2022 March 2020 Personal Finance Tracker Web App Feb 2024April 2024 Developed a Personal Finance Manager to help users organize and optimize their income expenses savings and investments Database Management Configured and optimized MySQL database to store and retrieve user data Utilized Flask to build a web application framework User Interface Design Created responsive and userfriendly web interfaces using HTML CSS and JS Github  httpsgithubcomedwin16804FinanceTracker Smart Energy Management System using Ensemble Learning Feb 2024May 2024 Developed an SEMS that minimizes energy wastage by combining the bestperforming ensemble learning classifier based on accuracy This project introduces a Smart Energy Management System SEMS that utilizes ensemble learning with AdaBoost and Random Forest classifiers to predict energy waste in smart homes with high accuracy Githubhttpsgithubcomedwin16804SmartEnergyManagementSystemUsingEnsembleLearning Hotel Management System Jan 2022March 2022 Developed a Hotel Management System providing users with access to all essential features required for efficient hotel management such as room booking checkout and reservation Designed and developed the entire application using Python used Tkinter for building the graphical user interface GUI of the application used MySQL for managing and storing hotel data efficiently Github  httpsgithubcomedwin16804nocturnalhotelmanagementsystem AI powered job recommendation system System will connect job seekers with relevant job opportunities by leveraging machine learning and natural language processing NLP Intrusion Detection System in IOT devices using AI Automated threat detection and prevention SKILLS Technical Skills CC Python Java ReactJS JS HTMLCSS SQL Languages English Malayalam Hindi Spanish AwardsActivities Won the TechnoVIT Ideathon for ‘TrashCanGo’ app idea Ongoing Ongoing"
      ]
     },
     "execution_count": 25,
     "metadata": {},
     "output_type": "execute_result"
    }
   ],
   "source": [
    "doc=nlp(resume_text_cleaned)\n",
    "doc"
   ]
  },
  {
   "cell_type": "code",
   "execution_count": 4,
   "metadata": {},
   "outputs": [],
   "source": [
    "import pandas as pd \n",
    "resume_df=pd.read_csv('./Resume.csv')\n"
   ]
  },
  {
   "cell_type": "code",
   "execution_count": 7,
   "metadata": {},
   "outputs": [],
   "source": [
    "resume_text=df['Resume_str'].values.tolist()"
   ]
  },
  {
   "cell_type": "code",
   "execution_count": 9,
   "metadata": {},
   "outputs": [
    {
     "data": {
      "text/html": [
       "<div>\n",
       "<style scoped>\n",
       "    .dataframe tbody tr th:only-of-type {\n",
       "        vertical-align: middle;\n",
       "    }\n",
       "\n",
       "    .dataframe tbody tr th {\n",
       "        vertical-align: top;\n",
       "    }\n",
       "\n",
       "    .dataframe thead th {\n",
       "        text-align: right;\n",
       "    }\n",
       "</style>\n",
       "<table border=\"1\" class=\"dataframe\">\n",
       "  <thead>\n",
       "    <tr style=\"text-align: right;\">\n",
       "      <th></th>\n",
       "      <th>Unnamed: 0</th>\n",
       "      <th>Job Title</th>\n",
       "      <th>Job Description</th>\n",
       "    </tr>\n",
       "  </thead>\n",
       "  <tbody>\n",
       "    <tr>\n",
       "      <th>0</th>\n",
       "      <td>0</td>\n",
       "      <td>Flutter Developer</td>\n",
       "      <td>We are looking for hire experts flutter develo...</td>\n",
       "    </tr>\n",
       "    <tr>\n",
       "      <th>1</th>\n",
       "      <td>1</td>\n",
       "      <td>Django Developer</td>\n",
       "      <td>PYTHON/DJANGO (Developer/Lead) - Job Code(PDJ ...</td>\n",
       "    </tr>\n",
       "    <tr>\n",
       "      <th>2</th>\n",
       "      <td>2</td>\n",
       "      <td>Machine Learning</td>\n",
       "      <td>Data Scientist (Contractor)\\n\\nBangalore, IN\\n...</td>\n",
       "    </tr>\n",
       "    <tr>\n",
       "      <th>3</th>\n",
       "      <td>3</td>\n",
       "      <td>iOS Developer</td>\n",
       "      <td>JOB DESCRIPTION:\\n\\nStrong framework outside o...</td>\n",
       "    </tr>\n",
       "    <tr>\n",
       "      <th>4</th>\n",
       "      <td>4</td>\n",
       "      <td>Full Stack Developer</td>\n",
       "      <td>job responsibility full stack engineer – react...</td>\n",
       "    </tr>\n",
       "  </tbody>\n",
       "</table>\n",
       "</div>"
      ],
      "text/plain": [
       "   Unnamed: 0             Job Title  \\\n",
       "0           0     Flutter Developer   \n",
       "1           1      Django Developer   \n",
       "2           2      Machine Learning   \n",
       "3           3         iOS Developer   \n",
       "4           4  Full Stack Developer   \n",
       "\n",
       "                                     Job Description  \n",
       "0  We are looking for hire experts flutter develo...  \n",
       "1  PYTHON/DJANGO (Developer/Lead) - Job Code(PDJ ...  \n",
       "2  Data Scientist (Contractor)\\n\\nBangalore, IN\\n...  \n",
       "3  JOB DESCRIPTION:\\n\\nStrong framework outside o...  \n",
       "4  job responsibility full stack engineer – react...  "
      ]
     },
     "execution_count": 9,
     "metadata": {},
     "output_type": "execute_result"
    }
   ],
   "source": [
    "jd_df=pd.read_csv('./job_title_des.csv')\n",
    "jd_df.head()"
   ]
  },
  {
   "cell_type": "code",
   "execution_count": 27,
   "metadata": {},
   "outputs": [
    {
     "data": {
      "text/plain": [
       "2277"
      ]
     },
     "execution_count": 27,
     "metadata": {},
     "output_type": "execute_result"
    }
   ],
   "source": [
    "jd_df_text=jd_df['Job Description'].values.tolist()\n",
    "jd_df_text\n",
    "len(jd_df_text)"
   ]
  },
  {
   "cell_type": "code",
   "execution_count": 11,
   "metadata": {},
   "outputs": [
    {
     "name": "stderr",
     "output_type": "stream",
     "text": [
      "c:\\Python312\\Lib\\site-packages\\tqdm\\auto.py:21: TqdmWarning: IProgress not found. Please update jupyter and ipywidgets. See https://ipywidgets.readthedocs.io/en/stable/user_install.html\n",
      "  from .autonotebook import tqdm as notebook_tqdm\n"
     ]
    }
   ],
   "source": [
    "import torch\n",
    "import torch.nn as nn\n",
    "from transformers import BertModel, BertTokenizer\n",
    "\n",
    "class DualEncoderWithCrossAttention(nn.Module):\n",
    "    def __init__(self, model_name='bert-base-uncased'):\n",
    "        super(DualEncoderWithCrossAttention, self).__init__()\n",
    "        self.resume_encoder = BertModel.from_pretrained(model_name)\n",
    "        self.job_encoder = BertModel.from_pretrained(model_name)\n",
    "        self.cross_attention = nn.MultiheadAttention(embed_dim=768, num_heads=8)\n",
    "        self.fc = nn.Linear(768, 1)  # Final layer to output similarity score\n",
    "\n",
    "    def forward(self, resume_input, job_input):\n",
    "        # Encode resume and job descriptions separately\n",
    "        resume_emb = self.resume_encoder(**resume_input).last_hidden_state  # (batch_size, seq_len, hidden_dim)\n",
    "        job_emb = self.job_encoder(**job_input).last_hidden_state\n",
    "\n",
    "        # Apply cross-attention between resume and job embeddings\n",
    "        attn_output, _ = self.cross_attention(resume_emb, job_emb, job_emb)\n",
    "        combined_emb = attn_output.mean(dim=1)  # Aggregate sequence into a single vector\n",
    "\n",
    "        # Output similarity score\n",
    "        similarity_score = self.fc(combined_emb)\n",
    "        return similarity_score\n"
   ]
  },
  {
   "cell_type": "code",
   "execution_count": 31,
   "metadata": {},
   "outputs": [
    {
     "name": "stdout",
     "output_type": "stream",
     "text": [
      "Epoch 1, Loss: 0.6931876540184021\n",
      "Epoch 2, Loss: 0.6917409896850586\n",
      "Epoch 3, Loss: 0.690087080001831\n",
      "Epoch 4, Loss: 0.6879218816757202\n",
      "Epoch 5, Loss: 0.6849610805511475\n",
      "\n",
      "Top 3 job descriptions with the highest similarity:\n",
      "1. Job Description: Hiring for a Project Manager with skills in Project Management, Docker, and Git.\n",
      "   Similarity Score: -0.0368\n",
      "2. Job Description: Seeking a Web Developer proficient in React, Django, and Git.\n",
      "   Similarity Score: -0.0494\n",
      "3. Job Description: Looking for a Data Scientist with expertise in Python, Machine Learning, and SQL.\n",
      "   Similarity Score: -0.0894\n"
     ]
    }
   ],
   "source": [
    "from torch.utils.data import DataLoader, Dataset\n",
    "from transformers import BertTokenizer\n",
    "import torch.optim as optim\n",
    "import torch.nn.functional as F\n",
    "\n",
    "class ResumeJobDataset(Dataset):\n",
    "    def __init__(self, resumes, jobs, labels, tokenizer, max_length=128):\n",
    "        self.resumes = resumes\n",
    "        self.jobs = jobs\n",
    "        self.labels = labels\n",
    "        self.tokenizer = tokenizer\n",
    "        self.max_length = max_length\n",
    "\n",
    "    def __len__(self):\n",
    "        return len(self.labels)\n",
    "\n",
    "    def __getitem__(self, idx):\n",
    "        resume = self.resumes[idx]\n",
    "        job = self.jobs[idx]\n",
    "        label = self.labels[idx]\n",
    "\n",
    "        resume_input = self.tokenizer(resume, padding='max_length', max_length=self.max_length, truncation=True, return_tensors=\"pt\")\n",
    "        job_input = self.tokenizer(job, padding='max_length', max_length=self.max_length, truncation=True, return_tensors=\"pt\")\n",
    "\n",
    "        # Squeeze to remove unnecessary dimensions\n",
    "        resume_input = {key: val.squeeze(0) for key, val in resume_input.items()}\n",
    "        job_input = {key: val.squeeze(0) for key, val in job_input.items()}\n",
    "\n",
    "        return resume_input, job_input, torch.tensor(label, dtype=torch.float)\n",
    "\n",
    "# Sample synthetic data for training\n",
    "resumes = resume_text\n",
    "jobs = jd_df_text\n",
    "labels = [1, 0]  # 1 for relevant, 0 for non-relevant\n",
    "\n",
    "# Prepare dataset and dataloader\n",
    "tokenizer = BertTokenizer.from_pretrained('bert-base-uncased')\n",
    "dataset = ResumeJobDataset(resumes, jobs, labels, tokenizer)\n",
    "dataloader = DataLoader(dataset, batch_size=2, shuffle=True)\n",
    "\n",
    "# Initialize model, optimizer, and loss function\n",
    "model = DualEncoderWithCrossAttention()\n",
    "optimizer = optim.Adam(model.parameters(), lr=1e-5)\n",
    "\n",
    "# Training loop\n",
    "for epoch in range(5):\n",
    "    for resume_input, job_input, label in dataloader:\n",
    "        optimizer.zero_grad()\n",
    "        output = model(resume_input, job_input).squeeze()  # Forward pass\n",
    "        loss = F.binary_cross_entropy_with_logits(output, label)  # Contrastive loss\n",
    "        loss.backward()\n",
    "        optimizer.step()\n",
    "        print(f\"Epoch {epoch+1}, Loss: {loss.item()}\")\n",
    "\n",
    "from sklearn.metrics.pairwise import cosine_similarity\n",
    "\n",
    "# Function to calculate similarity score between resume and job description\n",
    "def calculate_similarity(model, resume_text, job_descriptions, tokenizer):\n",
    "    resume_input = tokenizer(resume_text, padding='max_length', max_length=128, truncation=True, return_tensors=\"pt\")\n",
    "    similarities = []\n",
    "    for job in job_descriptions:\n",
    "        job_input = tokenizer(job, padding='max_length', max_length=128, truncation=True, return_tensors=\"pt\")\n",
    "        with torch.no_grad():\n",
    "            similarity_score = model(resume_input, job_input).item()\n",
    "        similarities.append((job, similarity_score))\n",
    "\n",
    "    # Sort job descriptions by similarity score\n",
    "    sorted_jobs = sorted(similarities, key=lambda x: x[1], reverse=True)\n",
    "    return sorted_jobs[:3]\n",
    "\n",
    "# Sample job descriptions to compare\n",
    "job_descriptions = [\n",
    "    \"Looking for a Data Scientist with expertise in Python, Machine Learning, and SQL.\",\n",
    "    \"Seeking a Web Developer proficient in React, Django, and Git.\",\n",
    "    \"Hiring for a Project Manager with skills in Project Management, Docker, and Git.\"\n",
    "]\n",
    "\n",
    "# Calculate and print the top 3 job matches\n",
    "top_jobs = calculate_similarity(model, \"Project Manager with skills in Project Management, Docker, and Git.\", job_descriptions, tokenizer)\n",
    "print(\"\\nTop 3 job descriptions with the highest similarity:\")\n",
    "for idx, (job, score) in enumerate(top_jobs, start=1):\n",
    "    print(f\"{idx}. Job Description: {job}\\n   Similarity Score: {score:.4f}\")\n"
   ]
  },
  {
   "cell_type": "code",
   "execution_count": null,
   "metadata": {},
   "outputs": [],
   "source": []
  }
 ],
 "metadata": {
  "kernelspec": {
   "display_name": "Python 3",
   "language": "python",
   "name": "python3"
  },
  "language_info": {
   "codemirror_mode": {
    "name": "ipython",
    "version": 3
   },
   "file_extension": ".py",
   "mimetype": "text/x-python",
   "name": "python",
   "nbconvert_exporter": "python",
   "pygments_lexer": "ipython3",
   "version": "3.12.3"
  }
 },
 "nbformat": 4,
 "nbformat_minor": 2
}
